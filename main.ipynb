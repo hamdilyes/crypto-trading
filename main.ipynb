{
 "cells": [
  {
   "cell_type": "code",
   "execution_count": 46,
   "metadata": {},
   "outputs": [],
   "source": [
    "from binance import *\n",
    "from ta import *"
   ]
  },
  {
   "cell_type": "code",
   "execution_count": 47,
   "metadata": {},
   "outputs": [],
   "source": [
    "# plot_prices(['STX'], freq='1h')"
   ]
  },
  {
   "cell_type": "code",
   "execution_count": 48,
   "metadata": {},
   "outputs": [],
   "source": [
    "symbol = 'BTC/USDT'\n",
    "dict_df = get_dict_df(symbols=[symbol], freq='1h', columns=['close', 'open'])\n",
    "\n",
    "dict_df = add_dict_df_emas(dict_df, lengths=[12, 21])\n",
    "\n",
    "df = dict_df[symbol]\n",
    "\n",
    "\n",
    "\n",
    "df_buys = df[df['Signal_EMA_12_21'] < 0]\n",
    "\n",
    "# buys_prev_index = [x-pd.Timedelta('1h') for x in df_buys.index]\n",
    "# df_buys_prev = df.loc[buys_prev_index]\n",
    "\n",
    "# df_buys\n",
    "# df_buys_prev['Relative_Distance_EMA_12_21'].hist(bins=50)"
   ]
  },
  {
   "cell_type": "code",
   "execution_count": 49,
   "metadata": {},
   "outputs": [],
   "source": [
    "# 2024-01-04 15:00:00\n",
    "# 2024-01-03 11:00:00"
   ]
  },
  {
   "cell_type": "code",
   "execution_count": 50,
   "metadata": {},
   "outputs": [],
   "source": [
    "# # df_plot = df[['close', 'Signal_EMA_12_21']]\n",
    "\n",
    "# # df_plot = df[['EMA_12', 'EMA_21']]\n",
    "\n",
    "# df_plot = df[['Relative_Distance_EMA_12_21']]\n",
    "\n",
    "# plot_df(df_plot)"
   ]
  },
  {
   "cell_type": "code",
   "execution_count": 51,
   "metadata": {},
   "outputs": [
    {
     "data": {
      "text/html": [
       "<div>\n",
       "<style scoped>\n",
       "    .dataframe tbody tr th:only-of-type {\n",
       "        vertical-align: middle;\n",
       "    }\n",
       "\n",
       "    .dataframe tbody tr th {\n",
       "        vertical-align: top;\n",
       "    }\n",
       "\n",
       "    .dataframe thead th {\n",
       "        text-align: right;\n",
       "    }\n",
       "</style>\n",
       "<table border=\"1\" class=\"dataframe\">\n",
       "  <thead>\n",
       "    <tr style=\"text-align: right;\">\n",
       "      <th></th>\n",
       "      <th>open</th>\n",
       "      <th>side</th>\n",
       "    </tr>\n",
       "    <tr>\n",
       "      <th>timestamp</th>\n",
       "      <th></th>\n",
       "      <th></th>\n",
       "    </tr>\n",
       "  </thead>\n",
       "  <tbody>\n",
       "    <tr>\n",
       "      <th>2024-01-03 10:00:00</th>\n",
       "      <td>45344.66</td>\n",
       "      <td>-1</td>\n",
       "    </tr>\n",
       "    <tr>\n",
       "      <th>2024-01-04 14:00:00</th>\n",
       "      <td>43346.67</td>\n",
       "      <td>1</td>\n",
       "    </tr>\n",
       "    <tr>\n",
       "      <th>2024-01-05 15:00:00</th>\n",
       "      <td>43488.21</td>\n",
       "      <td>-1</td>\n",
       "    </tr>\n",
       "    <tr>\n",
       "      <th>2024-01-05 20:00:00</th>\n",
       "      <td>43600.00</td>\n",
       "      <td>1</td>\n",
       "    </tr>\n",
       "    <tr>\n",
       "      <th>2024-01-06 06:00:00</th>\n",
       "      <td>43698.72</td>\n",
       "      <td>-1</td>\n",
       "    </tr>\n",
       "    <tr>\n",
       "      <th>...</th>\n",
       "      <td>...</td>\n",
       "      <td>...</td>\n",
       "    </tr>\n",
       "    <tr>\n",
       "      <th>2024-06-26 13:00:00</th>\n",
       "      <td>61431.47</td>\n",
       "      <td>1</td>\n",
       "    </tr>\n",
       "    <tr>\n",
       "      <th>2024-06-26 14:00:00</th>\n",
       "      <td>61760.00</td>\n",
       "      <td>-1</td>\n",
       "    </tr>\n",
       "    <tr>\n",
       "      <th>2024-06-27 12:00:00</th>\n",
       "      <td>61196.01</td>\n",
       "      <td>1</td>\n",
       "    </tr>\n",
       "    <tr>\n",
       "      <th>2024-06-28 12:00:00</th>\n",
       "      <td>61690.00</td>\n",
       "      <td>-1</td>\n",
       "    </tr>\n",
       "    <tr>\n",
       "      <th>2024-06-29 12:00:00</th>\n",
       "      <td>61102.33</td>\n",
       "      <td>1</td>\n",
       "    </tr>\n",
       "  </tbody>\n",
       "</table>\n",
       "<p>182 rows × 2 columns</p>\n",
       "</div>"
      ],
      "text/plain": [
       "                         open  side\n",
       "timestamp                          \n",
       "2024-01-03 10:00:00  45344.66    -1\n",
       "2024-01-04 14:00:00  43346.67     1\n",
       "2024-01-05 15:00:00  43488.21    -1\n",
       "2024-01-05 20:00:00  43600.00     1\n",
       "2024-01-06 06:00:00  43698.72    -1\n",
       "...                       ...   ...\n",
       "2024-06-26 13:00:00  61431.47     1\n",
       "2024-06-26 14:00:00  61760.00    -1\n",
       "2024-06-27 12:00:00  61196.01     1\n",
       "2024-06-28 12:00:00  61690.00    -1\n",
       "2024-06-29 12:00:00  61102.33     1\n",
       "\n",
       "[182 rows x 2 columns]"
      ]
     },
     "execution_count": 51,
     "metadata": {},
     "output_type": "execute_result"
    }
   ],
   "source": [
    "investment = 1000\n",
    "trades_prev = df[['open', 'close', 'Signal_EMA_12_21']].copy()\n",
    "\n",
    "trades_prev['side'] = 0\n",
    "\n",
    "trades_buys = trades_prev[trades_prev['Signal_EMA_12_21'] > 0]\n",
    "trades_sell = trades_prev[trades_prev['Signal_EMA_12_21'] < 0]\n",
    "\n",
    "buy_next_index = [x-pd.Timedelta('1h') for x in trades_buys.index]\n",
    "sell_next_index = [x-pd.Timedelta('1h') for x in trades_sell.index]\n",
    "\n",
    "trades_prev.loc[buy_next_index, 'side'] = 1\n",
    "trades_prev.loc[sell_next_index, 'side'] = -1\n",
    "\n",
    "trades_prev = trades_prev[trades_prev['side'] != 0]\n",
    "\n",
    "trades_prev.drop(columns=['Signal_EMA_12_21', 'close'], inplace=True)\n",
    "\n",
    "trades_prev"
   ]
  },
  {
   "cell_type": "code",
   "execution_count": 52,
   "metadata": {},
   "outputs": [
    {
     "data": {
      "text/html": [
       "<div>\n",
       "<style scoped>\n",
       "    .dataframe tbody tr th:only-of-type {\n",
       "        vertical-align: middle;\n",
       "    }\n",
       "\n",
       "    .dataframe tbody tr th {\n",
       "        vertical-align: top;\n",
       "    }\n",
       "\n",
       "    .dataframe thead th {\n",
       "        text-align: right;\n",
       "    }\n",
       "</style>\n",
       "<table border=\"1\" class=\"dataframe\">\n",
       "  <thead>\n",
       "    <tr style=\"text-align: right;\">\n",
       "      <th></th>\n",
       "      <th>open</th>\n",
       "      <th>side</th>\n",
       "    </tr>\n",
       "    <tr>\n",
       "      <th>timestamp</th>\n",
       "      <th></th>\n",
       "      <th></th>\n",
       "    </tr>\n",
       "  </thead>\n",
       "  <tbody>\n",
       "    <tr>\n",
       "      <th>2024-01-03 12:00:00</th>\n",
       "      <td>43702.89</td>\n",
       "      <td>-1</td>\n",
       "    </tr>\n",
       "    <tr>\n",
       "      <th>2024-01-04 16:00:00</th>\n",
       "      <td>44051.10</td>\n",
       "      <td>1</td>\n",
       "    </tr>\n",
       "    <tr>\n",
       "      <th>2024-01-05 17:00:00</th>\n",
       "      <td>43225.99</td>\n",
       "      <td>-1</td>\n",
       "    </tr>\n",
       "    <tr>\n",
       "      <th>2024-01-05 22:00:00</th>\n",
       "      <td>43946.26</td>\n",
       "      <td>1</td>\n",
       "    </tr>\n",
       "    <tr>\n",
       "      <th>2024-01-06 08:00:00</th>\n",
       "      <td>43653.20</td>\n",
       "      <td>-1</td>\n",
       "    </tr>\n",
       "    <tr>\n",
       "      <th>...</th>\n",
       "      <td>...</td>\n",
       "      <td>...</td>\n",
       "    </tr>\n",
       "    <tr>\n",
       "      <th>2024-06-26 15:00:00</th>\n",
       "      <td>61728.13</td>\n",
       "      <td>1</td>\n",
       "    </tr>\n",
       "    <tr>\n",
       "      <th>2024-06-26 16:00:00</th>\n",
       "      <td>61467.85</td>\n",
       "      <td>-1</td>\n",
       "    </tr>\n",
       "    <tr>\n",
       "      <th>2024-06-27 14:00:00</th>\n",
       "      <td>61990.00</td>\n",
       "      <td>1</td>\n",
       "    </tr>\n",
       "    <tr>\n",
       "      <th>2024-06-28 14:00:00</th>\n",
       "      <td>61297.99</td>\n",
       "      <td>-1</td>\n",
       "    </tr>\n",
       "    <tr>\n",
       "      <th>2024-06-29 14:00:00</th>\n",
       "      <td>61102.98</td>\n",
       "      <td>1</td>\n",
       "    </tr>\n",
       "  </tbody>\n",
       "</table>\n",
       "<p>182 rows × 2 columns</p>\n",
       "</div>"
      ],
      "text/plain": [
       "                         open  side\n",
       "timestamp                          \n",
       "2024-01-03 12:00:00  43702.89    -1\n",
       "2024-01-04 16:00:00  44051.10     1\n",
       "2024-01-05 17:00:00  43225.99    -1\n",
       "2024-01-05 22:00:00  43946.26     1\n",
       "2024-01-06 08:00:00  43653.20    -1\n",
       "...                       ...   ...\n",
       "2024-06-26 15:00:00  61728.13     1\n",
       "2024-06-26 16:00:00  61467.85    -1\n",
       "2024-06-27 14:00:00  61990.00     1\n",
       "2024-06-28 14:00:00  61297.99    -1\n",
       "2024-06-29 14:00:00  61102.98     1\n",
       "\n",
       "[182 rows x 2 columns]"
      ]
     },
     "execution_count": 52,
     "metadata": {},
     "output_type": "execute_result"
    }
   ],
   "source": [
    "investment = 1000\n",
    "trades_next = df[['open', 'close', 'Signal_EMA_12_21']].copy()\n",
    "\n",
    "trades_next['side'] = 0\n",
    "\n",
    "trades_buys = trades_next[trades_next['Signal_EMA_12_21'] > 0]\n",
    "trades_sell = trades_next[trades_next['Signal_EMA_12_21'] < 0]\n",
    "\n",
    "buy_next_index = [x+pd.Timedelta('1h') for x in trades_buys.index]\n",
    "sell_next_index = [x+pd.Timedelta('1h') for x in trades_sell.index]\n",
    "\n",
    "trades_next.loc[buy_next_index, 'side'] = 1\n",
    "trades_next.loc[sell_next_index, 'side'] = -1\n",
    "\n",
    "trades_next = trades_next[trades_next['side'] != 0]\n",
    "\n",
    "trades_next.drop(columns=['Signal_EMA_12_21', 'close'], inplace=True)\n",
    "\n",
    "trades_next"
   ]
  },
  {
   "cell_type": "code",
   "execution_count": 53,
   "metadata": {},
   "outputs": [
    {
     "data": {
      "text/plain": [
       "139448.9900000007"
      ]
     },
     "execution_count": 53,
     "metadata": {},
     "output_type": "execute_result"
    }
   ],
   "source": [
    "trades_prev['pnl'] = - trades_prev['side']*trades_prev['open']\n",
    "\n",
    "pnl_prev = 2*trades_prev['pnl'].sum()-trades_prev['pnl'].iloc[0]-trades_prev['pnl'].iloc[-1]\n",
    "pnl_prev"
   ]
  },
  {
   "cell_type": "code",
   "execution_count": 54,
   "metadata": {},
   "outputs": [
    {
     "data": {
      "text/plain": [
       "-1405.4100000000544"
      ]
     },
     "execution_count": 54,
     "metadata": {},
     "output_type": "execute_result"
    }
   ],
   "source": [
    "trades_next['pnl'] = - trades_next['side']*trades_next['open']\n",
    "\n",
    "pnl_next = 2*trades_next['pnl'].sum()-trades_next['pnl'].iloc[0]-trades_next['pnl'].iloc[-1]\n",
    "pnl_next"
   ]
  },
  {
   "cell_type": "code",
   "execution_count": 55,
   "metadata": {},
   "outputs": [
    {
     "data": {
      "text/plain": [
       "-99.2229954248193"
      ]
     },
     "execution_count": 55,
     "metadata": {},
     "output_type": "execute_result"
    }
   ],
   "source": [
    "pnl_prev/pnl_next"
   ]
  },
  {
   "cell_type": "code",
   "execution_count": 56,
   "metadata": {},
   "outputs": [],
   "source": [
    "# pd.DataFrame().ta.indicators()\n",
    "\n",
    "indicators_list = ['aberration', 'above', 'above_value', 'accbands', 'ad', 'adosc', 'adx', 'alma', 'amat', 'ao', 'aobv', 'apo', 'aroon', 'atr', 'bbands', 'below', 'below_value', 'bias', 'bop', 'brar', 'cci', 'cdl_pattern',\n",
    "'cdl_z', 'cfo', 'cg', 'chop', 'cksp', 'cmf', 'cmo', 'coppock', 'cross', 'cross_value', 'cti', 'decay', 'decreasing', 'dema', 'dm', 'donchian', 'dpo', 'ebsw', 'efi', 'ema', 'entropy', 'eom', 'er', 'eri',\n",
    "'fisher', 'fwma', 'ha', 'hilo', 'hl2', 'hlc3', 'hma', 'hwc', 'hwma', 'ichimoku', 'increasing', 'inertia', 'jma', 'kama', 'kc', 'kdj', 'kst', 'kurtosis', 'kvo', 'linreg', 'log_return', 'long_run', 'macd',\n",
    "'mad', 'massi', 'mcgd', 'median', 'mfi', 'midpoint', 'midprice', 'mom', 'natr', 'nvi', 'obv', 'ohlc4', 'pdist', 'percent_return', 'pgo', 'ppo', 'psar', 'psl', 'pvi', 'pvo', 'pvol', 'pvr', 'pvt', 'pwma', 'qqe',\n",
    "'qstick', 'quantile', 'rma', 'roc', 'rsi', 'rsx', 'rvgi', 'rvi', 'short_run', 'sinwma', 'skew', 'slope', 'sma', 'smi', 'squeeze', 'squeeze_pro', 'ssf', 'stc', 'stdev', 'stoch', 'stochrsi', 'supertrend',\n",
    "'swma', 't3', 'td_seq', 'tema', 'thermo', 'tos_stdevall', 'trima', 'trix', 'true_range', 'tsi', 'tsignals', 'ttm_trend', 'ui', 'uo', 'variance', 'vhf', 'vidya', 'vortex', 'vp', 'vwap', 'vwma', 'wcp',\n",
    "'willr', 'wma', 'xsignals', 'zlma', 'zscore']\n",
    "\n",
    "# search = 'ema'\n",
    "\n",
    "# for x in indicators_list:\n",
    "#     if search in x:\n",
    "#         print(x)\n",
    "\n",
    "# help(ta.ema)"
   ]
  },
  {
   "cell_type": "code",
   "execution_count": null,
   "metadata": {},
   "outputs": [],
   "source": []
  }
 ],
 "metadata": {
  "kernelspec": {
   "display_name": "base",
   "language": "python",
   "name": "python3"
  },
  "language_info": {
   "codemirror_mode": {
    "name": "ipython",
    "version": 3
   },
   "file_extension": ".py",
   "mimetype": "text/x-python",
   "name": "python",
   "nbconvert_exporter": "python",
   "pygments_lexer": "ipython3",
   "version": "3.9.13"
  }
 },
 "nbformat": 4,
 "nbformat_minor": 2
}
